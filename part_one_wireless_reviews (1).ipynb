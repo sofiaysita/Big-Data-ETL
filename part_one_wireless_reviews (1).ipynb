{
  "cells": [
    {
      "cell_type": "code",
      "execution_count": 1,
      "metadata": {
        "colab": {
          "base_uri": "https://localhost:8080/"
        },
        "id": "-8eFW_wl1n39",
        "outputId": "3f45bdfc-db32-4a2b-933c-bf21a8bfaa6c"
      },
      "outputs": [
        {
          "output_type": "stream",
          "name": "stdout",
          "text": [
            "\r0% [Working]\r            \rHit:1 http://archive.ubuntu.com/ubuntu focal InRelease\n",
            "\r0% [Connecting to security.ubuntu.com (185.125.190.36)] [Connected to cloud.r-p\r                                                                               \rGet:2 http://archive.ubuntu.com/ubuntu focal-updates InRelease [114 kB]\n",
            "\r                                                                               \rGet:3 https://cloud.r-project.org/bin/linux/ubuntu focal-cran40/ InRelease [3,622 B]\n",
            "\r0% [2 InRelease 15.6 kB/114 kB 14%] [Connecting to security.ubuntu.com (185.125\r                                                                               \r0% [Waiting for headers] [Waiting for headers] [Waiting for headers]\r                                                                    \rGet:4 http://archive.ubuntu.com/ubuntu focal-backports InRelease [108 kB]\n",
            "\r0% [4 InRelease 9,843 B/108 kB 9%] [Waiting for headers] [Waiting for headers] \r                                                                               \r0% [Waiting for headers] [Waiting for headers] [Waiting for headers]\r                                                                    \rGet:5 http://security.ubuntu.com/ubuntu focal-security InRelease [114 kB]\n",
            "\r0% [5 InRelease 14.2 kB/114 kB 12%] [Waiting for headers] [Waiting for headers]\r                                                                               \rGet:6 http://ppa.launchpad.net/c2d4u.team/c2d4u4.0+/ubuntu focal InRelease [18.1 kB]\n",
            "\r0% [5 InRelease 14.2 kB/114 kB 12%] [Waiting for headers] [6 InRelease 14.2 kB/\r                                                                               \rIgn:7 https://developer.download.nvidia.com/compute/machine-learning/repos/ubuntu2004/x86_64  InRelease\n",
            "\r0% [5 InRelease 14.2 kB/114 kB 12%] [Waiting for headers] [6 InRelease 14.2 kB/\r                                                                               \rHit:8 https://developer.download.nvidia.com/compute/cuda/repos/ubuntu2004/x86_64  InRelease\n",
            "Hit:9 https://developer.download.nvidia.com/compute/machine-learning/repos/ubuntu2004/x86_64  Release\n",
            "Hit:10 http://ppa.launchpad.net/cran/libgit2/ubuntu focal InRelease\n",
            "Get:11 http://archive.ubuntu.com/ubuntu focal-updates/restricted amd64 Packages [2,062 kB]\n",
            "Get:12 http://ppa.launchpad.net/deadsnakes/ppa/ubuntu focal InRelease [18.1 kB]\n",
            "Get:13 http://archive.ubuntu.com/ubuntu focal-updates/universe amd64 Packages [1,295 kB]\n",
            "Get:14 http://archive.ubuntu.com/ubuntu focal-updates/main amd64 Packages [2,965 kB]\n",
            "Get:15 http://ppa.launchpad.net/graphics-drivers/ppa/ubuntu focal InRelease [24.3 kB]\n",
            "Hit:16 http://ppa.launchpad.net/ubuntugis/ppa/ubuntu focal InRelease\n",
            "Get:18 http://ppa.launchpad.net/c2d4u.team/c2d4u4.0+/ubuntu focal/main Sources [2,386 kB]\n",
            "Get:19 http://security.ubuntu.com/ubuntu focal-security/universe amd64 Packages [994 kB]\n",
            "Get:20 http://security.ubuntu.com/ubuntu focal-security/main amd64 Packages [2,479 kB]\n",
            "Get:21 http://ppa.launchpad.net/c2d4u.team/c2d4u4.0+/ubuntu focal/main amd64 Packages [1,131 kB]\n",
            "Get:22 http://ppa.launchpad.net/deadsnakes/ppa/ubuntu focal/main amd64 Packages [29.5 kB]\n",
            "Get:23 http://ppa.launchpad.net/graphics-drivers/ppa/ubuntu focal/main amd64 Packages [42.8 kB]\n",
            "Fetched 13.8 MB in 3s (4,473 kB/s)\n",
            "Reading package lists... Done\n"
          ]
        }
      ],
      "source": [
        "# Activate Spark in our Colab notebook.\n",
        "import os\n",
        "# Find the latest version of spark 3.2  from http://www.apache.org/dist/spark/ and enter as the spark version\n",
        "# For example:\n",
        "# spark_version = 'spark-3.2.2'\n",
        "spark_version = 'spark-3.2.3'\n",
        "os.environ['SPARK_VERSION']=spark_version\n",
        "\n",
        "# Install Spark and Java\n",
        "!apt-get update\n",
        "!apt-get install openjdk-11-jdk-headless -qq > /dev/null\n",
        "!wget -q http://www.apache.org/dist/spark/$SPARK_VERSION/$SPARK_VERSION-bin-hadoop2.7.tgz\n",
        "!tar xf $SPARK_VERSION-bin-hadoop2.7.tgz\n",
        "!pip install -q findspark\n",
        "\n",
        "# Set Environment Variables\n",
        "import os\n",
        "os.environ[\"JAVA_HOME\"] = \"/usr/lib/jvm/java-11-openjdk-amd64\"\n",
        "os.environ[\"SPARK_HOME\"] = f\"/content/{spark_version}-bin-hadoop2.7\"\n",
        "\n",
        "# Start a SparkSession\n",
        "import findspark\n",
        "findspark.init()"
      ]
    },
    {
      "cell_type": "code",
      "execution_count": 2,
      "metadata": {
        "colab": {
          "base_uri": "https://localhost:8080/"
        },
        "id": "BzCrgs0Z1rnw",
        "outputId": "d368923a-8875-4cc7-c2a3-90bffe7c9238"
      },
      "outputs": [
        {
          "output_type": "stream",
          "name": "stdout",
          "text": [
            "--2023-02-14 17:25:17--  https://jdbc.postgresql.org/download/postgresql-42.2.9.jar\n",
            "Resolving jdbc.postgresql.org (jdbc.postgresql.org)... 72.32.157.228, 2001:4800:3e1:1::228\n",
            "Connecting to jdbc.postgresql.org (jdbc.postgresql.org)|72.32.157.228|:443... connected.\n",
            "HTTP request sent, awaiting response... 200 OK\n",
            "Length: 914037 (893K) [application/java-archive]\n",
            "Saving to: ‘postgresql-42.2.9.jar’\n",
            "\n",
            "postgresql-42.2.9.j 100%[===================>] 892.61K  4.83MB/s    in 0.2s    \n",
            "\n",
            "2023-02-14 17:25:18 (4.83 MB/s) - ‘postgresql-42.2.9.jar’ saved [914037/914037]\n",
            "\n"
          ]
        }
      ],
      "source": [
        "# Get postgresql package\n",
        "!wget https://jdbc.postgresql.org/download/postgresql-42.2.9.jar"
      ]
    },
    {
      "cell_type": "code",
      "execution_count": 3,
      "metadata": {
        "id": "0DuBth0V2PR8"
      },
      "outputs": [],
      "source": [
        "# Import Spark and create a SparkSession\n",
        "from pyspark.sql import SparkSession\n",
        "spark = SparkSession.builder.appName(\"BigData-HW-1\").config(\"spark.driver.extraClassPath\",\"/content/postgresql-42.2.9.jar\").getOrCreate()"
      ]
    },
    {
      "cell_type": "markdown",
      "metadata": {
        "id": "D3W2XJVi2CU-"
      },
      "source": [
        "# Extract the Amazon Data into Spark DataFrame"
      ]
    },
    {
      "cell_type": "code",
      "execution_count": 4,
      "metadata": {
        "colab": {
          "base_uri": "https://localhost:8080/"
        },
        "id": "Na_stw7b1wfU",
        "outputId": "f11a15d8-f1a0-48eb-bd5f-2f1d1c3586f4"
      },
      "outputs": [
        {
          "output_type": "stream",
          "name": "stdout",
          "text": [
            "+-----------+-----------+--------------+----------+--------------+--------------------+----------------+-----------+-------------+-----------+----+-----------------+--------------------+--------------------+-------------------+\n",
            "|marketplace|customer_id|     review_id|product_id|product_parent|       product_title|product_category|star_rating|helpful_votes|total_votes|vine|verified_purchase|     review_headline|         review_body|        review_date|\n",
            "+-----------+-----------+--------------+----------+--------------+--------------------+----------------+-----------+-------------+-----------+----+-----------------+--------------------+--------------------+-------------------+\n",
            "|         US|   16414143|R3W4P9UBGNGH1U|B00YL0EKWE|     852431543|LG G4 Case Hard T...|        Wireless|          2|            1|          3|   N|                Y|Looks good, funct...|2 issues  -  Once...|2015-01-31 00:08:00|\n",
            "|         US|   50800750|R15V54KBMTQWAY|B00XK95RPQ|     516894650|Selfie Stick Fibl...|        Wireless|          4|            0|          0|   N|                N| A fun little gadget|I’m embarrassed t...|2015-01-31 00:08:00|\n",
            "|         US|   15184378| RY8I449HNXSVF|B00SXRXUKO|     984297154|Tribe AB40 Water ...|        Wireless|          5|            0|          0|   N|                Y|          Five Stars|  Fits iPhone 6 well|2015-01-31 00:08:00|\n",
            "|         US|   10203548|R18TLJYCKJFLSR|B009V5X1CE|     279912704|RAVPower® Element...|        Wireless|          5|            0|          0|   N|                Y|       Great charger|Great charger.  I...|2015-01-31 00:08:00|\n",
            "|         US|     488280|R1NK26SWS53B8Q|B00D93OVF0|     662791300|Fosmon Micro USB ...|        Wireless|          5|            0|          0|   N|                Y|          Five Stars|Great for the pri...|2015-01-31 00:08:00|\n",
            "|         US|   13334021|R11LOHEDYJALTN|B00XVGJMDQ|     421688488|iPhone 6 Case, Vo...|        Wireless|          5|            0|          0|   N|                Y|          Five Stars|Great Case, bette...|2015-01-31 00:08:00|\n",
            "|         US|   27520697|R3ALQVQB2P9LA7|B00KQW1X1C|     554285554|Nokia Lumia 630 R...|        Wireless|          4|            0|          0|   N|                Y|          Four Stars|Easy to set up an...|2015-01-31 00:08:00|\n",
            "|         US|   48086021|R3MWLXLNO21PDQ|B00IP1MQNK|     488006702|Lumsing 10400mah ...|        Wireless|          5|            0|          0|   N|                Y|          Five Stars|         Works great|2015-01-31 00:08:00|\n",
            "|         US|   12738196|R2L15IS24CX0LI|B00HVORET8|     389677711|iPhone 5S Battery...|        Wireless|          5|            0|          0|   N|                Y|      So far so good|So far so good. I...|2015-01-31 00:08:00|\n",
            "|         US|   15867807|R1DJ8976WPWVZU|B00HX3G6J6|     299654876|HTC One M8 Screen...|        Wireless|          3|            0|          0|   N|                Y|seems durable but...|seems durable but...|2015-01-31 00:08:00|\n",
            "|         US|    1972249|R3MRWNNR8CBTB7|B00U4NATNQ|     577878727|S6 Case - Bear Mo...|        Wireless|          5|            0|          0|   N|                Y|Super thin, light...|Super thin, light...|2015-01-31 00:08:00|\n",
            "|         US|   10956619|R1DS6DKTUXAQK3|B00SZEFDH8|     654620704|BLU Studio X, Unl...|        Wireless|          5|            0|          0|   N|                Y|          Five Stars|As good as the Sa...|2015-01-31 00:08:00|\n",
            "|         US|   14805911| RWJM5E0TWUJD2|B00JRJUL9U|     391166958|EZOPower 5-Port U...|        Wireless|          5|            0|          0|   N|                Y|            EZOPower|I received this o...|2015-01-31 00:08:00|\n",
            "|         US|   15611116|R1XTJKDYNCRGAC|B00KQ4T0HE|     481551630|iPhone 6S Case &i...|        Wireless|          1|            0|          0|   N|                Y|Very cheap case. ...|Very cheap case. ...|2015-01-31 00:08:00|\n",
            "|         US|   39298603|R2UZL3DPWEU1XW|B00M0YWKPM|     685107474| iPhone 6s Plus Case|        Wireless|          5|            0|          0|   N|                Y|          Five Stars|       son loves it.|2015-01-31 00:08:00|\n",
            "|         US|   17552454|R2EZXET9KBFFU3|B00KDZEE68|     148320945|zBoost ZB575-A TR...|        Wireless|          1|            0|          0|   N|                Y|            One Star|you have to turn ...|2015-01-31 00:08:00|\n",
            "|         US|   12218556|R26VY1L1FD3LPU|B00BJN45GM|      47788188|OtterBox Defender...|        Wireless|          5|            0|          0|   N|                Y|          Five Stars|  Awesome, thank you|2015-01-31 00:08:00|\n",
            "|         US|   21872923|R2SSA4NSFCV18T|B00SA86SXW|     748759272|Aduro PowerUP 30W...|        Wireless|          5|            0|          0|   N|                N|          Five Stars|         nice, smart|2015-01-31 00:08:00|\n",
            "|         US|   16264332|R1G6333JHJNEUQ|B00Q3I68TU|     974085141|LilGadgets Connec...|        Wireless|          5|            0|          0|   N|                Y|Great headphones ...|We love these hea...|2015-01-31 00:08:00|\n",
            "|         US|    6042304|R2DRG0UZXJQ0PE|B00TN4J1TA|     716174627|Anker Aluminum Mu...|        Wireless|          5|            0|          0|   N|                Y|          Five Stars|This is well wort...|2015-01-31 00:08:00|\n",
            "+-----------+-----------+--------------+----------+--------------+--------------------+----------------+-----------+-------------+-----------+----+-----------------+--------------------+--------------------+-------------------+\n",
            "only showing top 20 rows\n",
            "\n"
          ]
        }
      ],
      "source": [
        "# Read in the data from an S3 Bucket\n",
        "from pyspark import SparkFiles\n",
        "url = \"https://s3.amazonaws.com/amazon-reviews-pds/tsv/amazon_reviews_us_Wireless_v1_00.tsv.gz\"\n",
        "spark.sparkContext.addFile(url)\n",
        "\n",
        "df = spark.read.option('header', 'true').csv(SparkFiles.get(\"amazon_reviews_us_Wireless_v1_00.tsv.gz\"), inferSchema=True, sep='\\t', timestampFormat=\"yyyy-mm-dd\")\n",
        "df.show()\n",
        "\n"
      ]
    },
    {
      "cell_type": "markdown",
      "metadata": {
        "id": "C9U0rkGZ2eu7"
      },
      "source": [
        "# Transform the Data"
      ]
    },
    {
      "cell_type": "code",
      "source": [
        "print(df.count())\n",
        "df = df.dropna()\n",
        "print(df.count())\n",
        "df = df.dropDuplicates()\n",
        "print(df.count())"
      ],
      "metadata": {
        "colab": {
          "base_uri": "https://localhost:8080/"
        },
        "id": "n-0UvAWp3kPl",
        "outputId": "1d74a321-4fe9-4ee4-b278-412be08013a0"
      },
      "execution_count": 5,
      "outputs": [
        {
          "output_type": "stream",
          "name": "stdout",
          "text": [
            "9002021\n",
            "9001052\n",
            "9001052\n"
          ]
        }
      ]
    },
    {
      "cell_type": "code",
      "source": [
        "df.printSchema()"
      ],
      "metadata": {
        "colab": {
          "base_uri": "https://localhost:8080/"
        },
        "id": "7pwF4vCh1jwW",
        "outputId": "6c932b5d-a29a-4ade-dc40-bf34922e5b37"
      },
      "execution_count": 6,
      "outputs": [
        {
          "output_type": "stream",
          "name": "stdout",
          "text": [
            "root\n",
            " |-- marketplace: string (nullable = true)\n",
            " |-- customer_id: integer (nullable = true)\n",
            " |-- review_id: string (nullable = true)\n",
            " |-- product_id: string (nullable = true)\n",
            " |-- product_parent: integer (nullable = true)\n",
            " |-- product_title: string (nullable = true)\n",
            " |-- product_category: string (nullable = true)\n",
            " |-- star_rating: string (nullable = true)\n",
            " |-- helpful_votes: integer (nullable = true)\n",
            " |-- total_votes: integer (nullable = true)\n",
            " |-- vine: string (nullable = true)\n",
            " |-- verified_purchase: string (nullable = true)\n",
            " |-- review_headline: string (nullable = true)\n",
            " |-- review_body: string (nullable = true)\n",
            " |-- review_date: timestamp (nullable = true)\n",
            "\n"
          ]
        }
      ]
    },
    {
      "cell_type": "markdown",
      "source": [
        "## Create the \"review_id_table\"."
      ],
      "metadata": {
        "id": "dUoftWoKtM_c"
      }
    },
    {
      "cell_type": "code",
      "execution_count": 7,
      "metadata": {
        "colab": {
          "base_uri": "https://localhost:8080/"
        },
        "id": "2tMYkSIk2d-m",
        "outputId": "4c47b324-bdba-4dff-c9bf-cd853cab1653"
      },
      "outputs": [
        {
          "output_type": "stream",
          "name": "stdout",
          "text": [
            "+--------------+-----------+----------+--------------+-------------------+\n",
            "|     review_id|customer_id|product_id|product_parent|        review_date|\n",
            "+--------------+-----------+----------+--------------+-------------------+\n",
            "|R100A9LP02ZIKS|    6134747|B003TUSWG2|     443574173|2013-01-26 00:12:00|\n",
            "|R100BSJ3U71OX3|   33540279|B004IEWXSG|     425207258|2013-01-31 00:12:00|\n",
            "|R100CN4258RRXR|   13193493|B00DCIZJ5S|     706124906|2013-01-24 00:12:00|\n",
            "|R100R8KE8VENBT|   27990716|B00ANJL72I|     742348004|2013-01-12 00:01:00|\n",
            "|R100VZJSXIER38|   43156836|B0095ZCPTK|     302992785|2013-01-06 00:03:00|\n",
            "|R100YZDLL0O2N4|   12804693|B008ODNMD2|     675633080|2014-01-21 00:02:00|\n",
            "|R101C0M426BM0Z|    6968110|B005X1Y7I2|     908777325|2014-01-06 00:09:00|\n",
            "|R101EF8XBZDT73|    2996829|B00FM7R1WG|     930571712|2013-01-30 00:12:00|\n",
            "|R101F1O5T0PK5M|   24836939|B003ZX7RL4|     245455048|2011-01-17 00:03:00|\n",
            "|R101IMOK0JKOQW|   11072936|B00OPV34E4|     568061719|2015-01-30 00:05:00|\n",
            "|R101KUBDDFZSUZ|   37891428|B00C53YPHY|      23844371|2014-01-16 00:11:00|\n",
            "|R101NE9XX785C4|   40835159|B00L8CHL4C|      82735593|2014-01-31 00:10:00|\n",
            "|R101V378PT1MG3|   43950752|B00IJNFJ4W|      53587903|2015-01-05 00:01:00|\n",
            "|R1027H9W77VYE0|   45341140|B006FZ1SVO|     581695388|2013-01-22 00:02:00|\n",
            "|R1028YMFYR9HWA|   14971424|B000UOD5QM|     862941344|2013-01-13 00:09:00|\n",
            "|R102DA1PWS9NLC|   32414574|B000PDUZIE|     459868774|2013-01-13 00:01:00|\n",
            "|R102EK9LP4HLXO|   35164153|B00EOYOF36|     450696396|2014-01-25 00:03:00|\n",
            "|R102GXWA6PGDYQ|   12748247|B004JRY402|       4600990|2015-01-28 00:08:00|\n",
            "|R102NRGTUUTTFM|   48300714|B004CN9UG6|     480983817|2012-01-01 00:01:00|\n",
            "|R1033N1IVFR26Q|    1414197|B00INMWRDU|     268292547|2014-01-14 00:10:00|\n",
            "+--------------+-----------+----------+--------------+-------------------+\n",
            "only showing top 20 rows\n",
            "\n"
          ]
        }
      ],
      "source": [
        "from pyspark.sql.functions import to_date\n",
        "# Create the \"review_id_df\" DataFrame with the appropriate columns and data types.\n",
        "review_id_df = df.select([\"review_id\",\"customer_id\",\"product_id\", \"product_parent\",\"review_date\"])\n",
        "review_id_df.show()"
      ]
    },
    {
      "cell_type": "markdown",
      "source": [
        "## Create the \"products\" Table"
      ],
      "metadata": {
        "id": "aAVCFjXhtXO8"
      }
    },
    {
      "cell_type": "code",
      "execution_count": 8,
      "metadata": {
        "id": "g9gTNhT62je4",
        "colab": {
          "base_uri": "https://localhost:8080/"
        },
        "outputId": "1c82b056-1e33-40c5-e133-50980edfab34"
      },
      "outputs": [
        {
          "output_type": "stream",
          "name": "stdout",
          "text": [
            "+----------+--------------------+\n",
            "|product_id|       product_title|\n",
            "+----------+--------------------+\n",
            "|B003TUSWG2|DragonPad USB Car...|\n",
            "|B004IEWXSG|Cover For Iphone ...|\n",
            "|B00DCIZJ5S|Galaxy Note 5 Cas...|\n",
            "|B00ANJL72I|WHITE / WHITE Sho...|\n",
            "|B0095ZCPTK|Splash Zero Ultra...|\n",
            "|B008ODNMD2|elago G5 Breathe ...|\n",
            "|B005X1Y7I2|Anker PowerCore+ ...|\n",
            "|B00FM7R1WG|ZTE Valet Android...|\n",
            "|B003ZX7RL4|Nokia N8 Unlocked...|\n",
            "|B00OPV34E4|Bell+Howell Cleve...|\n",
            "|B00C53YPHY|Everydaysource Co...|\n",
            "|B00L8CHL4C|Aimo Wireless For...|\n",
            "|B00IJNFJ4W|4 items Combo: Mi...|\n",
            "|B006FZ1SVO|ERJFGE(TM) Rugged...|\n",
            "|B000UOD5QM|GARMIN 010-10997-...|\n",
            "|B000PDUZIE|Garmin eTrex Summ...|\n",
            "|B00EOYOF36|Yubi Power USB Ca...|\n",
            "|B004JRY402|iClever Wireless ...|\n",
            "|B004CN9UG6|Trident Case Krak...|\n",
            "|B00INMWRDU|For Samsung Galax...|\n",
            "+----------+--------------------+\n",
            "only showing top 20 rows\n",
            "\n"
          ]
        }
      ],
      "source": [
        "# Create the \"products_df\" DataFrame that drops the duplicates in the \"product_id\" and \"product_title columns. \n",
        "products_df = df.select([\"product_id\",\"product_title\"])\n",
        "products_df.show()"
      ]
    },
    {
      "cell_type": "markdown",
      "source": [
        "## Create the \"customers\" Table"
      ],
      "metadata": {
        "id": "LJHuZ9zut0e5"
      }
    },
    {
      "cell_type": "code",
      "execution_count": 9,
      "metadata": {
        "colab": {
          "base_uri": "https://localhost:8080/"
        },
        "id": "_pF2Vf3c2n2O",
        "outputId": "2f9d71de-0939-4dc5-bbf5-5fdb180444fb"
      },
      "outputs": [
        {
          "output_type": "stream",
          "name": "stdout",
          "text": [
            "+-----------+--------------+\n",
            "|customer_id|customer_count|\n",
            "+-----------+--------------+\n",
            "|   48040012|             1|\n",
            "|   49227916|             4|\n",
            "|     285987|             2|\n",
            "|    2531111|             1|\n",
            "|    2757697|             1|\n",
            "|   51937936|             2|\n",
            "|   44047606|             1|\n",
            "|   20227024|             9|\n",
            "|   27682601|             4|\n",
            "|   36896463|             2|\n",
            "|   51073768|             1|\n",
            "|   19035609|             2|\n",
            "|   10217380|             8|\n",
            "|   18600073|             3|\n",
            "|   30205378|             1|\n",
            "|   42386364|             1|\n",
            "|   10456237|             1|\n",
            "|   28805032|             1|\n",
            "|   12185324|             1|\n",
            "|   35339821|             1|\n",
            "+-----------+--------------+\n",
            "only showing top 20 rows\n",
            "\n"
          ]
        }
      ],
      "source": [
        "# Create the \"customers_df\" DataFrame that groups the data on the \"customer_id\" by the number of times a customer reviewed a product. \n",
        "customers_df = df.groupby(\"customer_id\").agg({\"customer_id\":\"count\"})\n",
        "customers_df = customers_df.withColumnRenamed(\"count(customer_id)\", \"customer_count\") \n",
        "customers_df.show()"
      ]
    },
    {
      "cell_type": "markdown",
      "source": [
        "## Create the \"vine_table\"."
      ],
      "metadata": {
        "id": "8SbTasxbuXGK"
      }
    },
    {
      "cell_type": "code",
      "execution_count": 11,
      "metadata": {
        "colab": {
          "base_uri": "https://localhost:8080/"
        },
        "id": "WHQKbmCE2p3Q",
        "outputId": "2f4f369d-0cc7-4836-8add-11df50382ef5"
      },
      "outputs": [
        {
          "output_type": "stream",
          "name": "stdout",
          "text": [
            "+--------------+-----------+-------------+-----------+----+\n",
            "|     review_id|star_rating|helpful_votes|total_votes|vine|\n",
            "+--------------+-----------+-------------+-----------+----+\n",
            "|R100A9LP02ZIKS|          5|            0|          0|   N|\n",
            "|R100BSJ3U71OX3|          2|            0|          0|   N|\n",
            "|R100CN4258RRXR|          5|            0|          0|   N|\n",
            "|R100R8KE8VENBT|          5|            0|          0|   N|\n",
            "|R100VZJSXIER38|          5|            0|          0|   N|\n",
            "|R100YZDLL0O2N4|          5|            0|          0|   N|\n",
            "|R101C0M426BM0Z|          2|            0|          0|   N|\n",
            "|R101EF8XBZDT73|          5|            2|          2|   N|\n",
            "|R101F1O5T0PK5M|          5|            3|          3|   N|\n",
            "|R101IMOK0JKOQW|          5|            2|          2|   N|\n",
            "|R101KUBDDFZSUZ|          5|            0|          0|   N|\n",
            "|R101NE9XX785C4|          4|            0|          0|   N|\n",
            "|R101V378PT1MG3|          1|            0|          0|   N|\n",
            "|R1027H9W77VYE0|          5|            0|          0|   N|\n",
            "|R1028YMFYR9HWA|          5|            0|          0|   N|\n",
            "|R102DA1PWS9NLC|          5|            0|          0|   N|\n",
            "|R102EK9LP4HLXO|          4|            0|          0|   N|\n",
            "|R102GXWA6PGDYQ|          2|            0|          0|   N|\n",
            "|R102NRGTUUTTFM|          5|            0|          0|   N|\n",
            "|R1033N1IVFR26Q|          5|            0|          0|   N|\n",
            "+--------------+-----------+-------------+-----------+----+\n",
            "only showing top 20 rows\n",
            "\n"
          ]
        }
      ],
      "source": [
        "# Create the \"vine_df\" DataFrame that has the \"review_id\", \"star_rating\", \"helpful_votes\", \"total_votes\", and \"vine\" columns. \n",
        "\n",
        "vine_df = df.select([\"review_id\",\"star_rating\",\"helpful_votes\", \"total_votes\",\"vine\"])\n",
        "vine_df.show() "
      ]
    },
    {
      "cell_type": "markdown",
      "metadata": {
        "id": "I8aTsEjZ2s6L"
      },
      "source": [
        "# Load"
      ]
    },
    {
      "cell_type": "code",
      "execution_count": 12,
      "metadata": {
        "id": "W4dzUKfI2vXM"
      },
      "outputs": [],
      "source": [
        "mode = \"append\"\n",
        "jdbc_url=\"jdbc:postgresql://<endpoint>:5432/my_data_class_db\"\n",
        "config = {\"user\":\"postgres\", \"password\": \"<password>\", \"driver\":\"org.postgresql.Driver\"}"
      ]
    },
    {
      "cell_type": "code",
      "source": [
        "# Write review_id_df to table in RDS\n",
        "review_id_df.write.jdbc(url=jdbc_url, table='review_id_df', mode=mode, properties=config)"
      ],
      "metadata": {
        "id": "0r2gwlO0K3y_"
      },
      "execution_count": null,
      "outputs": []
    },
    {
      "cell_type": "code",
      "execution_count": null,
      "metadata": {
        "id": "pPXyGVE-2yPJ"
      },
      "outputs": [],
      "source": [
        "# Write products_df to table in RDS\n",
        "products_df.write.jdbc(url=jdbc_url, table='products_df', mode=mode, properties=config)"
      ]
    },
    {
      "cell_type": "code",
      "execution_count": null,
      "metadata": {
        "id": "aHbca4zN2yIa"
      },
      "outputs": [],
      "source": [
        "# Write customers_df to table in RDS\n",
        "customers_df.write.jdbc(url=jdbc_url, table='customers_df', mode=mode, properties=config)"
      ]
    },
    {
      "cell_type": "code",
      "execution_count": null,
      "metadata": {
        "id": "2HfOFneW2x_F"
      },
      "outputs": [],
      "source": [
        "# Write vine_df to table in RDS\n",
        "vine_df.write.jdbc(url=jdbc_url, table='vine_df', mode=mode, properties=config)"
      ]
    }
  ],
  "metadata": {
    "colab": {
      "provenance": []
    },
    "kernelspec": {
      "display_name": "Python 3",
      "language": "python",
      "name": "python3"
    },
    "language_info": {
      "codemirror_mode": {
        "name": "ipython",
        "version": 3
      },
      "file_extension": ".py",
      "mimetype": "text/x-python",
      "name": "python",
      "nbconvert_exporter": "python",
      "pygments_lexer": "ipython3",
      "version": "3.8.8"
    }
  },
  "nbformat": 4,
  "nbformat_minor": 0
}